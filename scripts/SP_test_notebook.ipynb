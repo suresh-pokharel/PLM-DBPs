{
 "cells": [
  {
   "cell_type": "code",
   "execution_count": 1,
   "id": "948fd83b-2619-4e40-8edf-2c0306e722b7",
   "metadata": {},
   "outputs": [
    {
     "name": "stderr",
     "output_type": "stream",
     "text": [
      "/home/sp2530/.local/lib/python3.10/site-packages/tqdm/auto.py:21: TqdmWarning: IProgress not found. Please update jupyter and ipywidgets. See https://ipywidgets.readthedocs.io/en/stable/user_install.html\n",
      "  from .autonotebook import tqdm as notebook_tqdm\n"
     ]
    }
   ],
   "source": [
    "from model.saprot.base import SaprotBaseModel\n",
    "from transformers import EsmTokenizer"
   ]
  },
  {
   "cell_type": "code",
   "execution_count": 2,
   "id": "b927bf91-3f1d-4fb4-95e2-a797ceb36275",
   "metadata": {},
   "outputs": [
    {
     "name": "stderr",
     "output_type": "stream",
     "text": [
      "Some weights of EsmForMaskedLM were not initialized from the model checkpoint at /home/sp2530/Desktop/SaProt/model/saprot/SaProt_650M_AF2/ and are newly initialized: ['esm.contact_head.regression.weight', 'esm.embeddings.position_embeddings.weight', 'esm.contact_head.regression.bias']\n",
      "You should probably TRAIN this model on a down-stream task to be able to use it for predictions and inference.\n"
     ]
    },
    {
     "name": "stdout",
     "output_type": "stream",
     "text": [
      "['M#', 'Ev', 'Vp', 'Qp', 'L#', 'Vy', 'Qd', 'Ya', 'Kv']\n",
      "torch.Size([1280])\n"
     ]
    }
   ],
   "source": [
    "config = {\n",
    "    \"task\": \"base\",\n",
    "    \"config_path\": \"/home/sp2530/Desktop/SaProt/model/saprot/SaProt_650M_AF2/\", # Note this is the directory path of SaProt, not the \".pt\" file\n",
    "    \"load_pretrained\": True,\n",
    "}\n",
    "\n",
    "model = SaprotBaseModel(**config)\n",
    "tokenizer = EsmTokenizer.from_pretrained(config[\"config_path\"])\n",
    "\n",
    "device = \"cuda\"\n",
    "model.to(device)\n",
    "\n",
    "seq = \"M#EvVpQpL#VyQdYaKv\" # Here \"#\" represents lower plDDT regions (plddt < 70)\n",
    "tokens = tokenizer.tokenize(seq)\n",
    "print(tokens)\n",
    "\n",
    "inputs = tokenizer(seq, return_tensors=\"pt\")\n",
    "inputs = {k: v.to(device) for k, v in inputs.items()}\n",
    "\n",
    "embeddings = model.get_hidden_states(inputs, reduction=\"mean\")\n",
    "print(embeddings[0].shape)"
   ]
  },
  {
   "cell_type": "code",
   "execution_count": 3,
   "id": "9cb09bbb-9fd5-487a-8821-d9e44862cd35",
   "metadata": {},
   "outputs": [
    {
     "data": {
      "text/plain": [
       "[tensor([-0.0243,  0.1525,  0.1106,  ..., -0.0122, -0.0740, -0.0749],\n",
       "        device='cuda:0', grad_fn=<MeanBackward1>)]"
      ]
     },
     "execution_count": 3,
     "metadata": {},
     "output_type": "execute_result"
    }
   ],
   "source": [
    "embeddings"
   ]
  },
  {
   "cell_type": "markdown",
   "id": "bc474fb0-97da-4574-8315-291e6f920777",
   "metadata": {},
   "source": [
    "# Convert protein structure into structure-aware sequence"
   ]
  },
  {
   "cell_type": "code",
   "execution_count": 4,
   "id": "13b8f4dd-1478-488e-a5f7-fffec5a4c4fc",
   "metadata": {},
   "outputs": [
    {
     "name": "stdout",
     "output_type": "stream",
     "text": [
      "seq: NSPRIVQSNDLTEAAYSLSRDQKRMLYLFVDQIRKSDDGICEIHVAKYAEIFGLTSAEASKDIRQALKSFAGKEVVFYYESFPWFIKPAHSPSRGLYSVHINPYLIPFFIGLQNRFTQFRLSETKEITNPYAMRLYESLCQYRKPDGSGIVSLKIDWIIERYQLPQSYQRMPDFRRRFLQVCVNEINSRTPMRLSYIEKKKGRQTTHIVFSFRDITS\n",
      "foldseek_seq: DFQKAKFAVQQLLKAWEAAPLLVLVVSVQLSCLAVVVQQKDKDALVVSCVVLVHDSVVSVVSVVVRLVVLPPTWIAGVHDIDRQFPDRWDAPDVRMIITGGDSVRSVRRPPDDDNMFIDGPQQCSQQRGVLLVSVVRVQSSAADPQQWGKDKDWLVSSCRRNVDDPQCRPPVSVCPVPVPVSLVRSCVRGQKNKDWDWDDDPPDTTIIMMTIGGVVD\n",
      "combined_seq: NdSfPqRkIaVkQfSaNvDqLqTlElAkAaYwSeLaSaRpDlQlKvRlMvLvYsLvFqVlDsQcIlRaKvSvDvDqGqIkCdEkIdHaVlAvKvYsAcEvIvFlGvLhTdSsAvEvAsSvKvDsIvRvQvArLlKvSvFlApGpKtEwViVaFgYvYhEdSiFdPrWqFfIpKdPrAwHdSaPpSdRvGrLmYiSiVtHgIgNdPsYvLrIsPvFrFrIpGpLdQdNdRnFmTfQiFdRgLpSqEqTcKsEqIqTrNgPvYlAlMvRsLvYvErSvLqCsQsYaRaKdPpDqGqSwGgIkVdSkLdKwIlDvWsIsIcErRrYnQvLdPdQpSqYcQrRpMpPvDsFvRcRpRvFpLvQpVvCsVlNvErIsNcSvRrTgPqMkRnLkSdYwIdEwKdKdKdGpRpQdTtTtHiIiVmFmStFiRgDgIvTvSd\n"
     ]
    }
   ],
   "source": [
    "from utils.foldseek_util import get_struc_seq\n",
    "pdb_path = \"example/8ac8.cif\"\n",
    "\n",
    "# Extract the \"A\" chain from the pdb file and encode it into a struc_seq\n",
    "# pLDDT masks low-confidence regions if \"plddt_mask\" is True. Please set it to True when\n",
    "# use AF2 structures for best performance.\n",
    "parsed_seqs = get_struc_seq(\"foldseek/foldseek\", pdb_path, [\"A\"], plddt_mask=False)[\"A\"]\n",
    "seq, foldseek_seq, combined_seq = parsed_seqs\n",
    "\n",
    "print(f\"seq: {seq}\")\n",
    "print(f\"foldseek_seq: {foldseek_seq}\")\n",
    "print(f\"combined_seq: {combined_seq}\")"
   ]
  },
  {
   "cell_type": "code",
   "execution_count": null,
   "id": "301e9279-9d51-4eca-9894-3631c90f24fe",
   "metadata": {},
   "outputs": [],
   "source": []
  }
 ],
 "metadata": {
  "kernelspec": {
   "display_name": "Python 3 (ipykernel)",
   "language": "python",
   "name": "python3"
  },
  "language_info": {
   "codemirror_mode": {
    "name": "ipython",
    "version": 3
   },
   "file_extension": ".py",
   "mimetype": "text/x-python",
   "name": "python",
   "nbconvert_exporter": "python",
   "pygments_lexer": "ipython3",
   "version": "3.10.16"
  }
 },
 "nbformat": 4,
 "nbformat_minor": 5
}
