{
 "cells": [
  {
   "cell_type": "code",
   "execution_count": 1,
   "id": "6062633c-12d8-47eb-9855-3d16c955aff6",
   "metadata": {},
   "outputs": [
    {
     "name": "stderr",
     "output_type": "stream",
     "text": [
      "2025-03-19 16:26:49.382715: I tensorflow/core/util/port.cc:153] oneDNN custom operations are on. You may see slightly different numerical results due to floating-point round-off errors from different computation orders. To turn them off, set the environment variable `TF_ENABLE_ONEDNN_OPTS=0`.\n",
      "2025-03-19 16:26:49.405876: E external/local_xla/xla/stream_executor/cuda/cuda_fft.cc:485] Unable to register cuFFT factory: Attempting to register factory for plugin cuFFT when one has already been registered\n",
      "2025-03-19 16:26:49.426343: E external/local_xla/xla/stream_executor/cuda/cuda_dnn.cc:8454] Unable to register cuDNN factory: Attempting to register factory for plugin cuDNN when one has already been registered\n",
      "2025-03-19 16:26:49.432882: E external/local_xla/xla/stream_executor/cuda/cuda_blas.cc:1452] Unable to register cuBLAS factory: Attempting to register factory for plugin cuBLAS when one has already been registered\n",
      "2025-03-19 16:26:49.452757: I tensorflow/core/platform/cpu_feature_guard.cc:210] This TensorFlow binary is optimized to use available CPU instructions in performance-critical operations.\n",
      "To enable the following instructions: AVX2 AVX512F AVX512_VNNI FMA, in other operations, rebuild TensorFlow with the appropriate compiler flags.\n",
      "2025-03-19 16:26:50.417097: W tensorflow/compiler/tf2tensorrt/utils/py_utils.cc:38] TF-TRT Warning: Could not find TensorRT\n"
     ]
    }
   ],
   "source": [
    "# Standard Libraries\n",
    "import os\n",
    "import sys\n",
    "import re\n",
    "import argparse\n",
    "import subprocess\n",
    "from io import StringIO\n",
    "import joblib\n",
    "\n",
    "# Data Manipulation\n",
    "import pandas as pd\n",
    "import numpy as np\n",
    "\n",
    "# Machine Learning & Deep Learning\n",
    "import tensorflow as tf\n",
    "from tensorflow.keras.models import load_model\n",
    "from sklearn.model_selection import train_test_split\n",
    "from sklearn.metrics import accuracy_score, classification_report\n",
    "from sklearn.metrics import (\n",
    "    accuracy_score,\n",
    "    precision_score,\n",
    "    recall_score,\n",
    "    f1_score,\n",
    "    matthews_corrcoef,\n",
    "    roc_auc_score,\n",
    "    average_precision_score,\n",
    "    confusion_matrix,\n",
    "    classification_report\n",
    ")\n",
    "\n",
    "# Utilities\n",
    "from tqdm import tqdm\n",
    "from IPython.display import clear_output\n"
   ]
  },
  {
   "cell_type": "code",
   "execution_count": 2,
   "id": "31e40f1f-70a7-496e-b75e-031134ca8215",
   "metadata": {},
   "outputs": [
    {
     "name": "stdout",
     "output_type": "stream",
     "text": [
      "MAIN_DIR: /home/sp2530/Desktop/pLM-DBPs\n"
     ]
    }
   ],
   "source": [
    "# set current working directory to MAIN_DIR or you can change manually\n",
    "MAIN_DIR = os.getcwd()\n",
    "print(\"MAIN_DIR:\", MAIN_DIR)"
   ]
  },
  {
   "cell_type": "code",
   "execution_count": 3,
   "id": "1accdb53-9f57-4e11-b149-46e5f3ddb4a0",
   "metadata": {},
   "outputs": [
    {
     "name": "stderr",
     "output_type": "stream",
     "text": [
      "2025-03-19 16:26:55.417359: W tensorflow/core/common_runtime/gpu/gpu_device.cc:2343] Cannot dlopen some GPU libraries. Please make sure the missing libraries mentioned above are installed properly if you would like to use GPU. Follow the guide at https://www.tensorflow.org/install/gpu for how to download and setup the required libraries for your platform.\n",
      "Skipping registering GPU devices...\n"
     ]
    }
   ],
   "source": [
    "# Load pLMDBPs base models\n",
    "ProtT5_ann_model = load_model(os.path.join(MAIN_DIR, \"assets/models/ProtT5_pLMDBPs.keras\"))\n",
    "SaProt_ann_model = load_model(os.path.join(MAIN_DIR, \"assets/models/SaProt_pLMDBPs.keras\"))"
   ]
  },
  {
   "cell_type": "markdown",
   "id": "13c8daf2-038a-452b-a3a5-c1965da7d6b1",
   "metadata": {},
   "source": [
    "### Read already computed features for test set"
   ]
  },
  {
   "cell_type": "code",
   "execution_count": 4,
   "id": "4b975203-0574-4c83-8e9e-9b69089408ca",
   "metadata": {},
   "outputs": [],
   "source": [
    "# read ProtT5 embeddings\n",
    "def split_protid(prot_id):\n",
    "    if '|' in prot_id:\n",
    "        return prot_id.split('|')[1]\n",
    "    elif ' ' in prot_id:\n",
    "        return prot_id.split(' ')[0]\n",
    "    else:\n",
    "        return prot_id\n",
    "\n",
    "# Load the data\n",
    "test_positive_prott5 = pd.read_csv(MAIN_DIR + '/dataset/test/embeddings/prott5/DBP_independent.csv', header=None)\n",
    "test_negative_prott5 = pd.read_csv(MAIN_DIR + '/dataset/test/embeddings/prott5/non_DBP_independent.csv', header=None)\n",
    "\n",
    "# Apply the split function to the first column to get protein id\n",
    "test_positive_prott5[0] = test_positive_prott5[0].apply(split_protid)\n",
    "test_negative_prott5[0] = test_negative_prott5[0].apply(split_protid)\n",
    "\n",
    "# Load the SaProt embeddings\n",
    "test_positive_saprot = pd.read_csv(MAIN_DIR + '/dataset/test/embeddings/saprot/DBP_independent.csv', header=None, low_memory=False).iloc[1:, :]\n",
    "test_negative_saprot = pd.read_csv(MAIN_DIR + '/dataset/test/embeddings/saprot/non_DBP_independent.csv', header=None, low_memory=False).iloc[1:, :]"
   ]
  },
  {
   "cell_type": "code",
   "execution_count": 5,
   "id": "035deee9-c267-440b-a9d1-df2a0e9f01a6",
   "metadata": {},
   "outputs": [
    {
     "name": "stdout",
     "output_type": "stream",
     "text": [
      "X_test_prott5: (997, 1024), y_test: (997,)\n",
      "X_test_saprot: (997, 1280), y_test: (997,)\n"
     ]
    }
   ],
   "source": [
    "# prepare X_test\n",
    "X_test_prott5 = np.concatenate(\n",
    "    (test_positive_prott5.iloc[:, 1:].values, test_negative_prott5.iloc[:, 1:].values), axis=0\n",
    ")\n",
    "\n",
    "X_test_saprot = np.concatenate(\n",
    "    (test_positive_saprot.iloc[:, 1:].values, test_negative_saprot.iloc[:, 1:].values), axis=0\n",
    ")\n",
    "\n",
    "# prepare y_test\n",
    "test_positive_labels = np.ones(test_positive_saprot.shape[0])\n",
    "test_negative_labels = np.zeros(test_negative_saprot.shape[0])\n",
    "y_test = np.concatenate((test_positive_labels, test_negative_labels), axis=0)\n",
    "\n",
    "print(f\"X_test_prott5: {X_test_prott5.shape}, y_test: {y_test.shape}\")\n",
    "print(f\"X_test_saprot: {X_test_saprot.shape}, y_test: {y_test.shape}\")\n",
    "\n",
    "# apply scaling\n",
    "scaler_saprot = joblib.load(os.path.join(MAIN_DIR, \"assets/models/scaler_saprot.pkl\")) # load standard scaler fitted with train set\n",
    "X_test_saprot = scaler_saprot.transform(X_test_saprot)"
   ]
  },
  {
   "cell_type": "code",
   "execution_count": 6,
   "id": "19955241-e7b5-4c5b-9013-ecd276cf77a4",
   "metadata": {},
   "outputs": [],
   "source": [
    "# make data type consistent\n",
    "X_test_prott5 = np.array(X_test_prott5, dtype=np.float32)\n",
    "X_test_saprot = np.array(X_test_saprot, dtype=np.float32)"
   ]
  },
  {
   "cell_type": "code",
   "execution_count": 7,
   "id": "183297b5-e8a2-48de-ad22-1fdfa421c2ba",
   "metadata": {},
   "outputs": [
    {
     "name": "stdout",
     "output_type": "stream",
     "text": [
      "\u001b[1m32/32\u001b[0m \u001b[32m━━━━━━━━━━━━━━━━━━━━\u001b[0m\u001b[37m\u001b[0m \u001b[1m0s\u001b[0m 3ms/step  \n",
      "\u001b[1m32/32\u001b[0m \u001b[32m━━━━━━━━━━━━━━━━━━━━\u001b[0m\u001b[37m\u001b[0m \u001b[1m0s\u001b[0m 3ms/step \n",
      "Accuracy  : 0.92\n",
      "Precision : 0.95\n",
      "Recall    : 0.89\n",
      "F1 Score  : 0.92\n",
      "MCC       : 0.85\n",
      "AUROC     : 0.97\n",
      "AUPR      : 0.97\n",
      "\n",
      "Confusion Matrix:\n",
      "              Predicted No     Predicted Yes\n",
      "Actual No        474                23\n",
      "Actual Yes        54               446\n"
     ]
    }
   ],
   "source": [
    "# Get predictions from ProtT5 and SAPROT\n",
    "y_pred_prott5_prob = ProtT5_ann_model.predict(X_test_prott5)\n",
    "y_pred_saprot_prob = SaProt_ann_model.predict(X_test_saprot)\n",
    "\n",
    "# Compute the average probability ( using ProtT5 and SAPROT)\n",
    "y_pred_avg_prob = (y_pred_prott5_prob + y_pred_saprot_prob) / 2\n",
    "\n",
    "# Convert probabilities to binary predictions (threshold at 0.5)\n",
    "y_pred_avg = (y_pred_avg_prob > 0.5).astype(int).flatten()\n",
    "\n",
    "# Compute evaluation metrics\n",
    "accuracy = accuracy_score(y_test, y_pred_avg)\n",
    "precision = precision_score(y_test, y_pred_avg)\n",
    "recall = recall_score(y_test, y_pred_avg)\n",
    "f1 = f1_score(y_test, y_pred_avg)\n",
    "mcc = matthews_corrcoef(y_test, y_pred_avg)\n",
    "auroc = roc_auc_score(y_test, y_pred_avg_prob)\n",
    "aupr = average_precision_score(y_test, y_pred_avg_prob)\n",
    "cm = confusion_matrix(y_test, y_pred_avg)\n",
    "\n",
    "# Print the results\n",
    "print(f\"Accuracy  : {accuracy:.2f}\")\n",
    "print(f\"Precision : {precision:.2f}\")\n",
    "print(f\"Recall    : {recall:.2f}\")\n",
    "print(f\"F1 Score  : {f1:.2f}\")\n",
    "print(f\"MCC       : {mcc:.2f}\")\n",
    "print(f\"AUROC     : {auroc:.2f}\")\n",
    "print(f\"AUPR      : {aupr:.2f}\")\n",
    "\n",
    "# Print confusion matrix\n",
    "print(\"\\nConfusion Matrix:\")\n",
    "print(f\"              Predicted No     Predicted Yes\")\n",
    "print(f\"Actual No     {cm[0][0]:>6}            {cm[0][1]:>6}\")\n",
    "print(f\"Actual Yes    {cm[1][0]:>6}            {cm[1][1]:>6}\")\n",
    "\n",
    "# Save results in a DataFrame\n",
    "results_df = pd.DataFrame({\n",
    "    \"Model\": [\"ProtT5 + SAPROT (Avg Probabilities)\"],\n",
    "    \"Accuracy\": [accuracy],\n",
    "    \"Precision\": [precision],\n",
    "    \"Recall\": [recall],\n",
    "    \"F1 Score\": [f1],\n",
    "    \"MCC\": [mcc],\n",
    "    \"AUROC\": [auroc],\n",
    "    \"AUPR\": [aupr]\n",
    "})"
   ]
  },
  {
   "cell_type": "code",
   "execution_count": null,
   "id": "1947c4cb-88ad-4df9-8a34-b599fc0c6dbb",
   "metadata": {},
   "outputs": [],
   "source": []
  }
 ],
 "metadata": {
  "kernelspec": {
   "display_name": "Python 3 (ipykernel)",
   "language": "python",
   "name": "python3"
  },
  "language_info": {
   "codemirror_mode": {
    "name": "ipython",
    "version": 3
   },
   "file_extension": ".py",
   "mimetype": "text/x-python",
   "name": "python",
   "nbconvert_exporter": "python",
   "pygments_lexer": "ipython3",
   "version": "3.10.16"
  }
 },
 "nbformat": 4,
 "nbformat_minor": 5
}
